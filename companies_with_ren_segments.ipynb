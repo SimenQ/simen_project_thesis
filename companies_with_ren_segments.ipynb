{
 "cells": [
  {
   "cell_type": "code",
   "execution_count": null,
   "metadata": {},
   "outputs": [],
   "source": []
  },
  {
   "cell_type": "code",
   "execution_count": 2,
   "metadata": {},
   "outputs": [],
   "source": [
    "import eikon as ek\n",
    "import pandas as pd\n",
    "ek.set_app_key(\"5f62315c837645a78ff033f35644b3ba3ef5753a\")"
   ]
  },
  {
   "cell_type": "code",
   "execution_count": 3,
   "metadata": {},
   "outputs": [],
   "source": [
    "import time\n",
    "def fetch_data_in_batches(tickers, batch_size, file_output_name, year=None):\n",
    "    if year is None:\n",
    "        year = \"FY0\"\n",
    "    else:\n",
    "        year = \"FY\" + str(year)\n",
    "\n",
    "    def get_data_batch(batch):\n",
    "        try:\n",
    "            data, _ = ek.get_data(\n",
    "                batch,\n",
    "                fields=[\n",
    "                    f'TR.BGS.BUSTotalRevenue(SDate={year}).segmentName',f'TR.BGS.BUSTotalRevenue(SDate={year}).segmentCode',f\"TR.Revenue(SDate={year},Frq=FY,Curn=USD)\"\n",
    "                ]\n",
    "            )\n",
    "            #add a column with the year\n",
    "            data[\"year\"] = year\n",
    "            return data  # Return only the DataFrame\n",
    "        except Exception as e:\n",
    "            print(f\"Failed to fetch data for batch: {batch}. Error: {e}\")\n",
    "            return None  # Return None in case of failure\n",
    "        \n",
    "    all_data_frames = []\n",
    "    batches_to_process = [tickers[i:i + batch_size] for i in range(0, len(tickers), batch_size)]\n",
    "    failed = []\n",
    "\n",
    "    while batches_to_process:\n",
    "        print(\"Number of batches to process:\", len(batches_to_process)+1)\n",
    "        new_failed = []\n",
    "        for batch in batches_to_process:\n",
    "            print(\"Getting data for batch number:\", batches_to_process.index(batch)+1, \"of\", len(batches_to_process)+1)\n",
    "            time.sleep(0.2)\n",
    "            print(\"Processing batch\")\n",
    "            batch_data = get_data_batch(batch)\n",
    "            \n",
    "            if batch_data is not None:\n",
    "                print(\"batch successful\")\n",
    "                all_data_frames.append(batch_data)\n",
    "            else:\n",
    "                print(\"batch failed\")\n",
    "                new_failed.append(batch)\n",
    "\n",
    "        # Update the list of batches to process\n",
    "        batches_to_process = new_failed\n",
    "\n",
    "        # Remember the failed batches\n",
    "        failed.extend(new_failed)\n",
    "\n",
    "    # Concatenate all the individual batch data frames into one\n",
    "    final_data_frame = pd.concat(all_data_frames, ignore_index=True) if all_data_frames else pd.DataFrame()\n",
    "\n",
    "    # Save the data to a file (adjust the path and file name as needed)\n",
    "    final_data_frame.to_csv(file_output_name, index=False)\n",
    "    \n",
    "    return final_data_frame, failed"
   ]
  },
  {
   "cell_type": "code",
   "execution_count": 4,
   "metadata": {},
   "outputs": [],
   "source": [
    "data = pd.read_csv(\"event_companies.csv\")"
   ]
  },
  {
   "cell_type": "code",
   "execution_count": 5,
   "metadata": {},
   "outputs": [],
   "source": [
    "import pandas as pd\n",
    "\n",
    "# Assuming df is your DataFrame\n",
    "# Load your DataFrame here if it's not already loaded\n",
    "# df = pd.read_csv('your_file.csv')\n",
    "\n",
    "# Modified function with additional parameters\n",
    "def check_segments(group, segment_codes, strings_to_check, min_revenue):\n",
    "    # Check if any segment code is in this group\n",
    "    has_segment_code = group['Segment Code'].str.contains('|'.join(segment_codes)).any()\n",
    "\n",
    "    # Check if Revenue is over a certain amount\n",
    "    has_revenue = group['Revenue'].gt(min_revenue).any()\n",
    "\n",
    "    # Check if any segment name contains any of the strings\n",
    "    has_string = any(string.lower() in group['Segment Name'].to_string() for string in strings_to_check)\n",
    "    \n",
    "    return pd.Series({'Has Segment Code': has_segment_code, 'Has Revenue': has_revenue, 'Has String': has_string})\n",
    "\n",
    "\n",
    "# Define your list of segment codes and strings\n",
    "segment_codes = ['221111','221113','221114','221115','221116',\"221117\", '221118',]  # Example segment codes\n",
    "strings_to_check = ['renewable',\" ren \"]  # Example strings\n",
    "\n",
    "# Group by 'Company Name' and apply the checking function with parameters\n",
    "#results = df.groupby('Instrument').apply(check_segments, segment_codes, strings_to_check)\n",
    "\n",
    "#print(results)\n"
   ]
  },
  {
   "cell_type": "code",
   "execution_count": 6,
   "metadata": {},
   "outputs": [
    {
     "name": "stdout",
     "output_type": "stream",
     "text": [
      "Number of batches to process: 30\n",
      "Getting data for batch number: 1 of 30\n",
      "Processing batch\n"
     ]
    },
    {
     "ename": "KeyboardInterrupt",
     "evalue": "",
     "output_type": "error",
     "traceback": [
      "\u001b[1;31m---------------------------------------------------------------------------\u001b[0m",
      "\u001b[1;31mKeyboardInterrupt\u001b[0m                         Traceback (most recent call last)",
      "\u001b[1;32mc:\\Users\\simenvq\\programmering\\companies_with_ren_segments.ipynb Cell 6\u001b[0m line \u001b[0;36m1\n\u001b[1;32m----> <a href='vscode-notebook-cell:/c%3A/Users/simenvq/programmering/companies_with_ren_segments.ipynb#W5sZmlsZQ%3D%3D?line=0'>1</a>\u001b[0m data \u001b[39m=\u001b[39mfetch_data_in_batches(\u001b[39mlist\u001b[39;49m(data[\u001b[39m'\u001b[39;49m\u001b[39mcompanies\u001b[39;49m\u001b[39m'\u001b[39;49m]), \u001b[39m500\u001b[39;49m, \u001b[39m\"\u001b[39;49m\u001b[39msegments.csv\u001b[39;49m\u001b[39m\"\u001b[39;49m, \u001b[39m0\u001b[39;49m)\n",
      "\u001b[1;32mc:\\Users\\simenvq\\programmering\\companies_with_ren_segments.ipynb Cell 6\u001b[0m line \u001b[0;36m3\n\u001b[0;32m     <a href='vscode-notebook-cell:/c%3A/Users/simenvq/programmering/companies_with_ren_segments.ipynb#W5sZmlsZQ%3D%3D?line=31'>32</a>\u001b[0m time\u001b[39m.\u001b[39msleep(\u001b[39m0.2\u001b[39m)\n\u001b[0;32m     <a href='vscode-notebook-cell:/c%3A/Users/simenvq/programmering/companies_with_ren_segments.ipynb#W5sZmlsZQ%3D%3D?line=32'>33</a>\u001b[0m \u001b[39mprint\u001b[39m(\u001b[39m\"\u001b[39m\u001b[39mProcessing batch\u001b[39m\u001b[39m\"\u001b[39m)\n\u001b[1;32m---> <a href='vscode-notebook-cell:/c%3A/Users/simenvq/programmering/companies_with_ren_segments.ipynb#W5sZmlsZQ%3D%3D?line=33'>34</a>\u001b[0m batch_data \u001b[39m=\u001b[39m get_data_batch(batch)\n\u001b[0;32m     <a href='vscode-notebook-cell:/c%3A/Users/simenvq/programmering/companies_with_ren_segments.ipynb#W5sZmlsZQ%3D%3D?line=35'>36</a>\u001b[0m \u001b[39mif\u001b[39;00m batch_data \u001b[39mis\u001b[39;00m \u001b[39mnot\u001b[39;00m \u001b[39mNone\u001b[39;00m:\n\u001b[0;32m     <a href='vscode-notebook-cell:/c%3A/Users/simenvq/programmering/companies_with_ren_segments.ipynb#W5sZmlsZQ%3D%3D?line=36'>37</a>\u001b[0m     \u001b[39mprint\u001b[39m(\u001b[39m\"\u001b[39m\u001b[39mbatch successful\u001b[39m\u001b[39m\"\u001b[39m)\n",
      "\u001b[1;32mc:\\Users\\simenvq\\programmering\\companies_with_ren_segments.ipynb Cell 6\u001b[0m line \u001b[0;36m1\n\u001b[0;32m      <a href='vscode-notebook-cell:/c%3A/Users/simenvq/programmering/companies_with_ren_segments.ipynb#W5sZmlsZQ%3D%3D?line=7'>8</a>\u001b[0m \u001b[39mdef\u001b[39;00m \u001b[39mget_data_batch\u001b[39m(batch):\n\u001b[0;32m      <a href='vscode-notebook-cell:/c%3A/Users/simenvq/programmering/companies_with_ren_segments.ipynb#W5sZmlsZQ%3D%3D?line=8'>9</a>\u001b[0m     \u001b[39mtry\u001b[39;00m:\n\u001b[1;32m---> <a href='vscode-notebook-cell:/c%3A/Users/simenvq/programmering/companies_with_ren_segments.ipynb#W5sZmlsZQ%3D%3D?line=9'>10</a>\u001b[0m         data, _ \u001b[39m=\u001b[39m ek\u001b[39m.\u001b[39;49mget_data(\n\u001b[0;32m     <a href='vscode-notebook-cell:/c%3A/Users/simenvq/programmering/companies_with_ren_segments.ipynb#W5sZmlsZQ%3D%3D?line=10'>11</a>\u001b[0m             batch,\n\u001b[0;32m     <a href='vscode-notebook-cell:/c%3A/Users/simenvq/programmering/companies_with_ren_segments.ipynb#W5sZmlsZQ%3D%3D?line=11'>12</a>\u001b[0m             fields\u001b[39m=\u001b[39;49m[\n\u001b[0;32m     <a href='vscode-notebook-cell:/c%3A/Users/simenvq/programmering/companies_with_ren_segments.ipynb#W5sZmlsZQ%3D%3D?line=12'>13</a>\u001b[0m                 \u001b[39m'\u001b[39;49m\u001b[39mTR.BGS.BUSTotalRevenue.segmentName\u001b[39;49m\u001b[39m'\u001b[39;49m,\u001b[39m'\u001b[39;49m\u001b[39mTR.BGS.BUSTotalRevenue.segmentCode\u001b[39;49m\u001b[39m'\u001b[39;49m,\u001b[39m\"\u001b[39;49m\u001b[39mTR.Revenue(SDate=FY0,Frq=FY,Curn=USD)\u001b[39;49m\u001b[39m\"\u001b[39;49m\n\u001b[0;32m     <a href='vscode-notebook-cell:/c%3A/Users/simenvq/programmering/companies_with_ren_segments.ipynb#W5sZmlsZQ%3D%3D?line=13'>14</a>\u001b[0m             ]\n\u001b[0;32m     <a href='vscode-notebook-cell:/c%3A/Users/simenvq/programmering/companies_with_ren_segments.ipynb#W5sZmlsZQ%3D%3D?line=14'>15</a>\u001b[0m         )\n\u001b[0;32m     <a href='vscode-notebook-cell:/c%3A/Users/simenvq/programmering/companies_with_ren_segments.ipynb#W5sZmlsZQ%3D%3D?line=15'>16</a>\u001b[0m         \u001b[39m#add a column with the year\u001b[39;00m\n\u001b[0;32m     <a href='vscode-notebook-cell:/c%3A/Users/simenvq/programmering/companies_with_ren_segments.ipynb#W5sZmlsZQ%3D%3D?line=16'>17</a>\u001b[0m         data[\u001b[39m\"\u001b[39m\u001b[39myear\u001b[39m\u001b[39m\"\u001b[39m] \u001b[39m=\u001b[39m year\n",
      "File \u001b[1;32mc:\\Users\\simenvq\\programmering\\.venv\\Lib\\site-packages\\eikon\\data_grid.py:190\u001b[0m, in \u001b[0;36mget_data\u001b[1;34m(instruments, fields, parameters, field_name, raw_output, debug)\u001b[0m\n\u001b[0;32m    187\u001b[0m \u001b[39mif\u001b[39;00m _endpoint \u001b[39m==\u001b[39m DataGridAsync_UDF_endpoint:\n\u001b[0;32m    188\u001b[0m     payload \u001b[39m=\u001b[39m {\u001b[39m'\u001b[39m\u001b[39mrequests\u001b[39m\u001b[39m'\u001b[39m: [payload]}\n\u001b[1;32m--> 190\u001b[0m result \u001b[39m=\u001b[39m eikon\u001b[39m.\u001b[39;49mjson_requests\u001b[39m.\u001b[39;49msend_json_request(_endpoint, payload, debug\u001b[39m=\u001b[39;49mdebug)\n\u001b[0;32m    192\u001b[0m \u001b[39mif\u001b[39;00m result\u001b[39m.\u001b[39mget(\u001b[39m'\u001b[39m\u001b[39mresponses\u001b[39m\u001b[39m'\u001b[39m):\n\u001b[0;32m    193\u001b[0m     result \u001b[39m=\u001b[39m result[\u001b[39m'\u001b[39m\u001b[39mresponses\u001b[39m\u001b[39m'\u001b[39m][\u001b[39m0\u001b[39m]\n",
      "File \u001b[1;32mc:\\Users\\simenvq\\programmering\\.venv\\Lib\\site-packages\\eikon\\json_requests.py:107\u001b[0m, in \u001b[0;36msend_json_request\u001b[1;34m(entity, payload, debug)\u001b[0m\n\u001b[0;32m    105\u001b[0m \u001b[39m# Manage specifically DataGrid async mode\u001b[39;00m\n\u001b[0;32m    106\u001b[0m \u001b[39mif\u001b[39;00m entity\u001b[39m.\u001b[39mstartswith(\u001b[39m'\u001b[39m\u001b[39mDataGrid\u001b[39m\u001b[39m'\u001b[39m) \u001b[39mand\u001b[39;00m entity\u001b[39m.\u001b[39mendswith(\u001b[39m'\u001b[39m\u001b[39mAsync\u001b[39m\u001b[39m'\u001b[39m):\n\u001b[1;32m--> 107\u001b[0m     ticket \u001b[39m=\u001b[39m _check_ticket_async(result)\n\u001b[0;32m    108\u001b[0m     \u001b[39mwhile\u001b[39;00m ticket:\n\u001b[0;32m    109\u001b[0m         ticket_request \u001b[39m=\u001b[39m {\u001b[39m'\u001b[39m\u001b[39mEntity\u001b[39m\u001b[39m'\u001b[39m: {\n\u001b[0;32m    110\u001b[0m                              \u001b[39m'\u001b[39m\u001b[39mE\u001b[39m\u001b[39m'\u001b[39m: entity,\n\u001b[0;32m    111\u001b[0m                              \u001b[39m'\u001b[39m\u001b[39mW\u001b[39m\u001b[39m'\u001b[39m: {\u001b[39m'\u001b[39m\u001b[39mrequests\u001b[39m\u001b[39m'\u001b[39m: [{\u001b[39m'\u001b[39m\u001b[39mticket\u001b[39m\u001b[39m'\u001b[39m: ticket}]}\n\u001b[0;32m    112\u001b[0m                          }}\n",
      "File \u001b[1;32mc:\\Users\\simenvq\\programmering\\.venv\\Lib\\site-packages\\eikon\\json_requests.py:175\u001b[0m, in \u001b[0;36m_check_ticket_async\u001b[1;34m(server_response)\u001b[0m\n\u001b[0;32m    173\u001b[0m                 message \u001b[39m=\u001b[39m message \u001b[39m+\u001b[39m \u001b[39m'\u001b[39m\u001b[39ms\u001b[39m\u001b[39m'\u001b[39m\n\u001b[0;32m    174\u001b[0m             logger\u001b[39m.\u001b[39minfo(message)\n\u001b[1;32m--> 175\u001b[0m             time\u001b[39m.\u001b[39;49msleep(ticket_duration \u001b[39m/\u001b[39;49m \u001b[39m1000.0\u001b[39;49m)\n\u001b[0;32m    176\u001b[0m             \u001b[39mreturn\u001b[39;00m ticket_value\n\u001b[0;32m    177\u001b[0m \u001b[39mreturn\u001b[39;00m \u001b[39mNone\u001b[39;00m\n",
      "\u001b[1;31mKeyboardInterrupt\u001b[0m: "
     ]
    }
   ],
   "source": [
    "data =fetch_data_in_batches(list(data['companies']), 500, \"segments.csv\", 0)\n"
   ]
  },
  {
   "cell_type": "code",
   "execution_count": null,
   "metadata": {},
   "outputs": [],
   "source": [
    "data[0]\n",
    "segment_codes = ['221111','221114','221115','221116',\"221117\"]  # Example segment codes\n",
    "strings_to_check = ['renewable',\" ren \"] \n",
    "min_revenue = 20000000\n",
    "results = data[0].groupby('Instrument').apply(check_segments, segment_codes, strings_to_check,min_revenue)\n"
   ]
  },
  {
   "cell_type": "code",
   "execution_count": null,
   "metadata": {},
   "outputs": [],
   "source": [
    "companies = results[((results['Has Segment Code'] == True)& (results[\"Has Revenue\"]== True)) | ((results['Has String'] == True)&(results[\"Has Revenue\"]== True))]\n"
   ]
  },
  {
   "cell_type": "code",
   "execution_count": null,
   "metadata": {},
   "outputs": [],
   "source": [
    "#get the companies that have renewable segments\n",
    "companies = companies.reset_index()\n",
    "companies_list = companies[[\"Instrument\"]]\n",
    "list_companies = companies_list\n",
    "list_companies.to_csv(\"companies_with_ren_segments_and_data.csv\", index=False)"
   ]
  },
  {
   "cell_type": "code",
   "execution_count": null,
   "metadata": {},
   "outputs": [
    {
     "data": {
      "text/html": [
       "<div>\n",
       "<style scoped>\n",
       "    .dataframe tbody tr th:only-of-type {\n",
       "        vertical-align: middle;\n",
       "    }\n",
       "\n",
       "    .dataframe tbody tr th {\n",
       "        vertical-align: top;\n",
       "    }\n",
       "\n",
       "    .dataframe thead th {\n",
       "        text-align: right;\n",
       "    }\n",
       "</style>\n",
       "<table border=\"1\" class=\"dataframe\">\n",
       "  <thead>\n",
       "    <tr style=\"text-align: right;\">\n",
       "      <th></th>\n",
       "      <th>Instrument</th>\n",
       "    </tr>\n",
       "  </thead>\n",
       "  <tbody>\n",
       "    <tr>\n",
       "      <th>0</th>\n",
       "      <td>000537.SZ</td>\n",
       "    </tr>\n",
       "    <tr>\n",
       "      <th>1</th>\n",
       "      <td>000539.SZ</td>\n",
       "    </tr>\n",
       "    <tr>\n",
       "      <th>2</th>\n",
       "      <td>000629.SZ</td>\n",
       "    </tr>\n",
       "    <tr>\n",
       "      <th>3</th>\n",
       "      <td>000883.SZ</td>\n",
       "    </tr>\n",
       "    <tr>\n",
       "      <th>4</th>\n",
       "      <td>002060.SZ</td>\n",
       "    </tr>\n",
       "    <tr>\n",
       "      <th>...</th>\n",
       "      <td>...</td>\n",
       "    </tr>\n",
       "    <tr>\n",
       "      <th>120</th>\n",
       "      <td>TTPW.NS</td>\n",
       "    </tr>\n",
       "    <tr>\n",
       "      <th>121</th>\n",
       "      <td>UN01.DE</td>\n",
       "    </tr>\n",
       "    <tr>\n",
       "      <th>122</th>\n",
       "      <td>UNACEMC1.LM</td>\n",
       "    </tr>\n",
       "    <tr>\n",
       "      <th>123</th>\n",
       "      <td>VERB.VI</td>\n",
       "    </tr>\n",
       "    <tr>\n",
       "      <th>124</th>\n",
       "      <td>XEL.OQ</td>\n",
       "    </tr>\n",
       "  </tbody>\n",
       "</table>\n",
       "<p>125 rows × 1 columns</p>\n",
       "</div>"
      ],
      "text/plain": [
       "      Instrument\n",
       "0      000537.SZ\n",
       "1      000539.SZ\n",
       "2      000629.SZ\n",
       "3      000883.SZ\n",
       "4      002060.SZ\n",
       "..           ...\n",
       "120      TTPW.NS\n",
       "121      UN01.DE\n",
       "122  UNACEMC1.LM\n",
       "123      VERB.VI\n",
       "124       XEL.OQ\n",
       "\n",
       "[125 rows x 1 columns]"
      ]
     },
     "execution_count": 9,
     "metadata": {},
     "output_type": "execute_result"
    },
    {
     "ename": "",
     "evalue": "",
     "output_type": "error",
     "traceback": [
      "\u001b[1;31mThe Kernel crashed while executing code in the the current cell or a previous cell. Please review the code in the cell(s) to identify a possible cause of the failure. Click <a href='https://aka.ms/vscodeJupyterKernelCrash'>here</a> for more info. View Jupyter <a href='command:jupyter.viewOutput'>log</a> for further details."
     ]
    }
   ],
   "source": [
    "list_companies"
   ]
  },
  {
   "cell_type": "code",
   "execution_count": null,
   "metadata": {},
   "outputs": [
    {
     "ename": "NameError",
     "evalue": "name 'data' is not defined",
     "output_type": "error",
     "traceback": [
      "\u001b[1;31m---------------------------------------------------------------------------\u001b[0m",
      "\u001b[1;31mNameError\u001b[0m                                 Traceback (most recent call last)",
      "\u001b[1;32mc:\\Users\\simenvq\\programmering\\companies_with_ren_segments.ipynb Cell 11\u001b[0m line \u001b[0;36m1\n\u001b[1;32m----> <a href='vscode-notebook-cell:/c%3A/Users/simenvq/programmering/companies_with_ren_segments.ipynb#X13sZmlsZQ%3D%3D?line=0'>1</a>\u001b[0m data\n",
      "\u001b[1;31mNameError\u001b[0m: name 'data' is not defined"
     ]
    }
   ],
   "source": [
    "data"
   ]
  },
  {
   "cell_type": "code",
   "execution_count": null,
   "metadata": {},
   "outputs": [],
   "source": []
  }
 ],
 "metadata": {
  "kernelspec": {
   "display_name": ".venv",
   "language": "python",
   "name": "python3"
  },
  "language_info": {
   "codemirror_mode": {
    "name": "ipython",
    "version": 3
   },
   "file_extension": ".py",
   "mimetype": "text/x-python",
   "name": "python",
   "nbconvert_exporter": "python",
   "pygments_lexer": "ipython3",
   "version": "3.11.4"
  }
 },
 "nbformat": 4,
 "nbformat_minor": 2
}
