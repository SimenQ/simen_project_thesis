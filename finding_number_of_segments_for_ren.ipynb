{
 "cells": [
  {
   "cell_type": "code",
   "execution_count": 1,
   "metadata": {},
   "outputs": [],
   "source": [
    "import pandas as pd \n",
    "\n",
    "# reead segments.csv\n",
    "segments = pd.read_csv('segments.csv')\n",
    "\n",
    "relevant_companies = pd.read_csv(\"companies_with_ren_segments_and_data.csv\")"
   ]
  },
  {
   "cell_type": "code",
   "execution_count": 2,
   "metadata": {},
   "outputs": [
    {
     "data": {
      "text/plain": [
       "7.2"
      ]
     },
     "execution_count": 2,
     "metadata": {},
     "output_type": "execute_result"
    }
   ],
   "source": [
    "#get the companies in segments that have values in relevant companies\n",
    "segments_relevant = segments[segments['Instrument'].isin(relevant_companies['Instrument'])]\n",
    "\n",
    "#group by instrument and count the number of segment, and find average number of segments\n",
    "segments_relevant_grouped = segments_relevant.groupby('Instrument').count()\n",
    "segments_relevant_grouped['Segment Name'].mean()\n"
   ]
  },
  {
   "cell_type": "code",
   "execution_count": 3,
   "metadata": {},
   "outputs": [
    {
     "data": {
      "text/plain": [
       "[13774499671.214067,\n",
       " 14601597311.617569,\n",
       " 12603388345.321226,\n",
       " 13586404424.828356,\n",
       " 11946619036.861475,\n",
       " 13201520251.737856,\n",
       " 11262158541.66706,\n",
       " 10262371042.636497,\n",
       " 12621307465.650309,\n",
       " 12413388056.03608]"
      ]
     },
     "execution_count": 3,
     "metadata": {},
     "output_type": "execute_result"
    }
   ],
   "source": [
    "import pandas as pd\n",
    "\n",
    "ren_data = {}\n",
    "for i in range(10): \n",
    "    path = rf\"ren_alternative\\ren_alternative_for_time_-{i}y.csv\"\n",
    "    ren_data[i] = pd.read_csv(path)\n",
    "\n",
    "means = []\n",
    "for i in range(10): \n",
    "    #find average \"Company Market Cap\" for each year \n",
    "    means.append(ren_data[i]['Company Market Cap'].mean())\n",
    "\n",
    "#find the average of the averages\n",
    "sum(means)/len(means)\n",
    "means"
   ]
  },
  {
   "cell_type": "code",
   "execution_count": 4,
   "metadata": {},
   "outputs": [
    {
     "data": {
      "text/plain": [
       "Index(['Instrument', 'Revenue', 'Price Close',\n",
       "       'Earnings Per Share - SmartEstimate®',\n",
       "       'Earnings Per Share - SmartEstimate®.1',\n",
       "       'Earnings Per Share - SmartEstimate®.2', 'Return On Equity - Actual',\n",
       "       'Company Market Cap', 'Common Shares - Outstanding - Total',\n",
       "       'Total Assets', 'Interest Expense', 'Total Liabilities',\n",
       "       'Dividend Payout Ratio - %', 'Interest Bearing Liabilities - Total',\n",
       "       'Shareholders Equity - Common', 'Total Capital', 'Total Debt',\n",
       "       'Long Term Growth - Mean', 'Return on Average Common Equity - %, TTM',\n",
       "       'TRBC Economic Sector Name', 'TRBC Business Sector Name',\n",
       "       'TRBC Industry Group Name', 'TRBC Industry Name', 'TRBC Activity Name',\n",
       "       'TRBC Economic Sector Code', 'TRBC Business Sector Code',\n",
       "       'TRBC Industry Group Code', 'TRBC Industry Code', 'TRBC Activity Code',\n",
       "       'Depreciation Depletion & Amortization - Total', 'WACC Tax Rate, (%)',\n",
       "       'Earnings before Interest & Taxes (EBIT)', 'Country of Headquarters',\n",
       "       'Operating Profit before Non-Recurring Income/Expense',\n",
       "       'Capital Expenditures - Total', 'ESG Combined Score Grade', 'year'],\n",
       "      dtype='object')"
      ]
     },
     "execution_count": 4,
     "metadata": {},
     "output_type": "execute_result"
    }
   ],
   "source": [
    "ren_data[i].columns"
   ]
  },
  {
   "cell_type": "code",
   "execution_count": 5,
   "metadata": {},
   "outputs": [],
   "source": [
    "import time\n",
    "import eikon as ek\n",
    "def fetch_data_in_batches(tickers, batch_size, file_output_name, year=None):\n",
    "    if year is None:\n",
    "        year = \"FY0\"\n",
    "    else:\n",
    "        year = \"FY\" + str(year)\n",
    "\n",
    "    def get_data_batch(batch):\n",
    "        try:\n",
    "            data, _ = ek.get_data(\n",
    "                batch,\n",
    "                fields=[\n",
    "                    f'TR.F.BUSTOTREVBIZACTIV(SDate={year}).segmentName'\n",
    "                ]\n",
    "            )\n",
    "            #add a column with the year\n",
    "            data[\"year\"] = year\n",
    "            return data  # Return only the DataFrame\n",
    "        except Exception as e:\n",
    "            print(f\"Failed to fetch data for batch: {batch}. Error: {e}\")\n",
    "            return None  # Return None in case of failure\n",
    "        \n",
    "    all_data_frames = []\n",
    "    batches_to_process = [tickers[i:i + batch_size] for i in range(0, len(tickers), batch_size)]\n",
    "    failed = []\n",
    "\n",
    "    while batches_to_process:\n",
    "        print(\"Number of batches to process:\", len(batches_to_process)+1)\n",
    "        new_failed = []\n",
    "        for batch in batches_to_process:\n",
    "            print(\"Getting data for batch number:\", batches_to_process.index(batch)+1, \"of\", len(batches_to_process)+1)\n",
    "            time.sleep(0.2)\n",
    "            print(\"Processing batch\")\n",
    "            batch_data = get_data_batch(batch)\n",
    "            \n",
    "            if batch_data is not None:\n",
    "                print(\"batch successful\")\n",
    "                all_data_frames.append(batch_data)\n",
    "            else:\n",
    "                print(\"batch failed\")\n",
    "                new_failed.append(batch)\n",
    "\n",
    "        # Update the list of batches to process\n",
    "        batches_to_process = new_failed\n",
    "\n",
    "        # Remember the failed batches\n",
    "        failed.extend(new_failed)\n",
    "\n",
    "    # Concatenate all the individual batch data frames into one\n",
    "    final_data_frame = pd.concat(all_data_frames, ignore_index=True) if all_data_frames else pd.DataFrame()\n",
    "\n",
    "    # Save the data to a file (adjust the path and file name as needed)\n",
    "    final_data_frame.to_csv(file_output_name, index=False)\n",
    "    \n",
    "    return final_data_frame, failed"
   ]
  },
  {
   "cell_type": "code",
   "execution_count": 6,
   "metadata": {},
   "outputs": [
    {
     "name": "stdout",
     "output_type": "stream",
     "text": [
      "Number of batches to process: 3\n",
      "Getting data for batch number: 1 of 3\n",
      "Processing batch\n",
      "batch successful\n",
      "Getting data for batch number: 2 of 3\n",
      "Processing batch\n",
      "batch successful\n",
      "4.984\n",
      "Number of batches to process: 3\n",
      "Getting data for batch number: 1 of 3\n",
      "Processing batch\n",
      "batch successful\n",
      "Getting data for batch number: 2 of 3\n",
      "Processing batch\n",
      "batch successful\n",
      "5.04\n",
      "Number of batches to process: 3\n",
      "Getting data for batch number: 1 of 3\n",
      "Processing batch\n",
      "batch successful\n",
      "Getting data for batch number: 2 of 3\n",
      "Processing batch\n",
      "batch successful\n",
      "4.96\n",
      "Number of batches to process: 3\n",
      "Getting data for batch number: 1 of 3\n",
      "Processing batch\n",
      "batch successful\n",
      "Getting data for batch number: 2 of 3\n",
      "Processing batch\n",
      "batch successful\n",
      "4.776\n",
      "Number of batches to process: 3\n",
      "Getting data for batch number: 1 of 3\n",
      "Processing batch\n",
      "batch successful\n",
      "Getting data for batch number: 2 of 3\n",
      "Processing batch\n",
      "batch successful\n",
      "4.736\n",
      "Number of batches to process: 3\n",
      "Getting data for batch number: 1 of 3\n",
      "Processing batch\n",
      "batch successful\n",
      "Getting data for batch number: 2 of 3\n",
      "Processing batch\n",
      "batch successful\n",
      "4.584\n",
      "Number of batches to process: 3\n",
      "Getting data for batch number: 1 of 3\n",
      "Processing batch\n",
      "batch successful\n",
      "Getting data for batch number: 2 of 3\n",
      "Processing batch\n",
      "batch successful\n",
      "4.328\n",
      "Number of batches to process: 3\n",
      "Getting data for batch number: 1 of 3\n",
      "Processing batch\n",
      "batch successful\n",
      "Getting data for batch number: 2 of 3\n",
      "Processing batch\n",
      "batch successful\n",
      "4.208\n",
      "Number of batches to process: 3\n",
      "Getting data for batch number: 1 of 3\n",
      "Processing batch\n",
      "batch successful\n",
      "Getting data for batch number: 2 of 3\n",
      "Processing batch\n",
      "batch successful\n",
      "4.192\n",
      "Number of batches to process: 3\n",
      "Getting data for batch number: 1 of 3\n",
      "Processing batch\n",
      "batch successful\n",
      "Getting data for batch number: 2 of 3\n",
      "Processing batch\n",
      "batch successful\n",
      "4.248\n"
     ]
    }
   ],
   "source": [
    "import eikon as ek \n",
    "ek.set_app_key(\"5f62315c837645a78ff033f35644b3ba3ef5753a\")\n",
    "for i in range(10): \n",
    "    success, fail = fetch_data_in_batches(list(relevant_companies['Instrument']), 100, rf\"segment_numbers\\ren_segment_numbers_for_time_-{-i}y.csv\", -i)\n",
    "    segments_relevant_grouped = success.groupby('Instrument').count()\n",
    "    print(segments_relevant_grouped['Segment Name'].mean())"
   ]
  },
  {
   "cell_type": "code",
   "execution_count": null,
   "metadata": {},
   "outputs": [],
   "source": []
  }
 ],
 "metadata": {
  "kernelspec": {
   "display_name": ".venv",
   "language": "python",
   "name": "python3"
  },
  "language_info": {
   "codemirror_mode": {
    "name": "ipython",
    "version": 3
   },
   "file_extension": ".py",
   "mimetype": "text/x-python",
   "name": "python",
   "nbconvert_exporter": "python",
   "pygments_lexer": "ipython3",
   "version": "3.11.4"
  }
 },
 "nbformat": 4,
 "nbformat_minor": 2
}
