{
 "cells": [
  {
   "cell_type": "code",
   "execution_count": null,
   "metadata": {},
   "outputs": [],
   "source": [
    "import time\n",
    "import eikon as ek\n",
    "def fetch_data_in_batches(tickers, batch_size, file_output_name, year=None):\n",
    "    if year is None:\n",
    "        year = \"FY0\"\n",
    "    else:\n",
    "        year = \"FY\" + str(year)\n",
    "\n",
    "    def get_data_batch(batch):\n",
    "        try:\n",
    "            data, _ = ek.get_data(\n",
    "                batch,\n",
    "                fields=[\n",
    "                    f'TR.F.BUSTOTREVBIZACTIV(SDate={year}).segmentName', f'TR.F.BUSTOTREVBIZACTIV(SDate={year}).segmentCode'\n",
    "                ]\n",
    "            )\n",
    "            #add a column with the year\n",
    "            data[\"year\"] = year\n",
    "            return data  # Return only the DataFrame\n",
    "        except Exception as e:\n",
    "            print(f\"Failed to fetch data for batch: {batch}. Error: {e}\")\n",
    "            return None  # Return None in case of failure\n",
    "        \n",
    "    all_data_frames = []\n",
    "    batches_to_process = [tickers[i:i + batch_size] for i in range(0, len(tickers), batch_size)]\n",
    "    failed = []\n",
    "\n",
    "    while batches_to_process:\n",
    "        print(\"Number of batches to process:\", len(batches_to_process)+1)\n",
    "        new_failed = []\n",
    "        for batch in batches_to_process:\n",
    "            print(\"Getting data for batch number:\", batches_to_process.index(batch)+1, \"of\", len(batches_to_process)+1)\n",
    "            time.sleep(0.2)\n",
    "            print(\"Processing batch\")\n",
    "            batch_data = get_data_batch(batch)\n",
    "            \n",
    "            if batch_data is not None:\n",
    "                print(\"batch successful\")\n",
    "                all_data_frames.append(batch_data)\n",
    "            else:\n",
    "                print(\"batch failed\")\n",
    "                new_failed.append(batch)\n",
    "\n",
    "        # Update the list of batches to process\n",
    "        batches_to_process = new_failed\n",
    "\n",
    "        # Remember the failed batches\n",
    "        failed.extend(new_failed)\n",
    "\n",
    "    # Concatenate all the individual batch data frames into one\n",
    "    final_data_frame = pd.concat(all_data_frames, ignore_index=True) if all_data_frames else pd.DataFrame()\n",
    "\n",
    "    # Save the data to a file (adjust the path and file name as needed)\n",
    "    final_data_frame.to_csv(file_output_name, index=False)\n",
    "    \n",
    "    return final_data_frame, failed"
   ]
  },
  {
   "cell_type": "code",
   "execution_count": null,
   "metadata": {},
   "outputs": [],
   "source": [
    "import eikon as ek \n",
    "ek.set_app_key(\"5f62315c837645a78ff033f35644b3ba3ef5753a\")\n",
    "import pandas as pd \n",
    "\n",
    "relevant_companies = pd.read_csv(r\"list_of_non_ren_companies.csv\")\n",
    "for i in range(7): \n",
    "    success, fail = fetch_data_in_batches(list(relevant_companies['Instrument']), 200, rf\"segment_numbers\\no_ren_segment_numbers_for_time_{-i}y.csv\", -i)\n",
    "    segments_relevant_grouped = success.groupby('Instrument').count()\n",
    "    print(segments_relevant_grouped['Segment Name'].mean())"
   ]
  },
  {
   "cell_type": "code",
   "execution_count": 27,
   "metadata": {},
   "outputs": [
    {
     "name": "stdout",
     "output_type": "stream",
     "text": [
      "0\n",
      "1\n",
      "2\n",
      "3\n",
      "4\n",
      "5\n",
      "6\n"
     ]
    }
   ],
   "source": [
    "\n",
    "segment_numbers = {}\n",
    "\n",
    "segment_codes = ['221111','221113','221114','221115','221116',\"221117\", '221118']  # Example segment codes\n",
    "strings_to_check = ['renewable', ' ren ']  \n",
    "\n",
    "# Creating a regular expression pattern from strings_to_check\n",
    "pattern = '|'.join(strings_to_check)\n",
    "\n",
    "for i in range(7): \n",
    "    print(i)\n",
    "    segment_numbers[i] = pd.read_csv(rf\"segment_numbers/no_ren_segment_numbers_for_time_{-i}y.csv\")\n",
    "    segment_numbers[i][\"year\"] = -i\n",
    "\n",
    "    segment_numbers[i][\"number of segments\"] = segment_numbers[i].groupby(\"Instrument\")[\"Segment Name\"].transform(\"count\")\n",
    "    #drop Segment Name\tSegment Code\n",
    "\n",
    "\n",
    "\n"
   ]
  },
  {
   "cell_type": "code",
   "execution_count": 28,
   "metadata": {},
   "outputs": [],
   "source": [
    "for i in range(7):\n",
    "    segment_numbers[i].to_csv(rf\"segment_numbers/no_ren_segment_numbers_for_time_{-i}y.csv\", index=False)"
   ]
  },
  {
   "cell_type": "code",
   "execution_count": null,
   "metadata": {},
   "outputs": [],
   "source": []
  }
 ],
 "metadata": {
  "kernelspec": {
   "display_name": ".venv",
   "language": "python",
   "name": "python3"
  },
  "language_info": {
   "codemirror_mode": {
    "name": "ipython",
    "version": 3
   },
   "file_extension": ".py",
   "mimetype": "text/x-python",
   "name": "python",
   "nbconvert_exporter": "python",
   "pygments_lexer": "ipython3",
   "version": "3.11.4"
  }
 },
 "nbformat": 4,
 "nbformat_minor": 2
}
