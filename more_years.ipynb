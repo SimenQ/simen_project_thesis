{
 "cells": [
  {
   "cell_type": "code",
   "execution_count": 1,
   "metadata": {},
   "outputs": [],
   "source": [
    "import pandas as pd \n",
    "from fetching_files import * \n",
    "import eikon as ek\n",
    "\n",
    "ek.set_app_key(\"5f62315c837645a78ff033f35644b3ba3ef5753a\")\n",
    "\n",
    "data = pd.read_csv(\"companies_with_ren_segments_and_data.csv\")\n",
    "non_ren = pd.read_csv(r\"alt_industry_roe\\industry_roe_for_year_-0y.csv\")\n",
    "\n",
    "#remove the data from non ren dataframe with column \"Instrument\"\n",
    "non_ren = non_ren[~non_ren.Instrument.isin(data.Instrument)]\n",
    "\n",
    "#remove nanas from Return On Equity - Actual\n",
    "non_ren = non_ren[~non_ren['Return On Equity - Actual'].isna()]\n",
    "\n",
    "\n",
    "\n",
    "\n",
    "\n",
    "\n",
    "non_ren.to_csv(r\"list_of_non_ren_companies.csv\")"
   ]
  },
  {
   "cell_type": "code",
   "execution_count": null,
   "metadata": {},
   "outputs": [],
   "source": []
  },
  {
   "cell_type": "code",
   "execution_count": 2,
   "metadata": {},
   "outputs": [
    {
     "name": "stdout",
     "output_type": "stream",
     "text": [
      "Number of batches to process: 7\n",
      "Getting data for batch number: 1 of 7\n",
      "Processing batch\n"
     ]
    },
    {
     "name": "stderr",
     "output_type": "stream",
     "text": [
      "2023-11-22 20:24:19,814 P[30376] [MainThread 28748] HTTP TimeoutException: .\n"
     ]
    },
    {
     "name": "stdout",
     "output_type": "stream",
     "text": [
      "Failed to fetch data for batch: ['BRKa.N', 'GE.N', 'MMM.N', 'TECK.N', 'WMT.N', 'CLB.N', 'XOM.N', 'SAP.TO', 'IGM.TO', 'L.TO', 'WN.TO', 'MDLZ.OQ', 'CP.TO', 'TRP.TO', 'IMO.TO', 'ENB.TO', 'HKLD.SI', 'CNR.TO', 'SU.TO', 'HON.OQ', 'ADM.N', 'CSX.OQ', 'CPB.N', 'FLR.N', 'ROK.N', 'UNP.N', 'ATD.TO', 'APD.N', 'AB.N', 'ABM.N', 'ARE.TO', 'ARCH.N', 'MERC.OQ', 'ATO.N', 'BLX.TO', 'MTZ.N', 'TFII.TO', 'CWT.N', 'CASY.OQ', 'CPSH.OQ', 'CPK.N', 'CTAS.OQ', 'CLH.N', 'CLF.N', 'CMC.N', 'CAG.N', 'ED.N', 'CXT.N', 'VVI.N', 'D.N', 'DCI.N', 'DY.N', 'EMR.N', 'EMPa.TO', 'FMC.N', 'RUS.TO', 'ARG.TO', 'FI.N', 'FLO.N', 'FCX.N', 'GIS.N', 'NVRI.N', 'HCSG.OQ', 'HTLD.OQ', 'HSY.N', 'DINO.N', 'HRL.N', 'HUBB.N', 'JBHT.OQ', 'GCARSOA1.MX', 'ITW.N', 'IFF.N', 'WKC.N', 'EME.N', 'J.N', 'K.N', 'KR.N', 'SR.N', 'MDU.N', 'MRTN.OQ', 'MKC.N', 'MGRC.OQ', 'MRU.TO', 'NI.N', 'NFG.N', 'NEN.A', 'NJR.N', 'AGR.N', 'NSC.N', 'ES.N', 'NTRS.OQ', 'NWN.N', 'NWE.OQ', 'NUE.N', 'MX.TO', 'OLN.N', 'PPG.N', 'PCG.N', 'PAAS.TO', 'PKI.TO', 'WTRG.N', 'PPC.OQ', 'TROW.OQ', 'PNM.N', 'KWR.N', 'RPM.N', 'RRX.N', 'ROL.N', 'R.N', 'EIX.N', 'SEIC.OQ', 'SJW.N', 'ATRL.TO', 'FSZ.TO', 'SVT.A', 'SHW.N', 'CPLE6.SA', 'AOS.N', 'SJM.N', 'SWX.N', 'SYY.N', 'TRNS.OQ', 'TSN.N', 'X.N', 'WM.N', 'UNF.N', 'UTL.N', 'URB.TO', 'VICR.OQ', 'LNT.OQ', 'WSO.N', 'WERN.OQ', 'WMB.N', 'WEC.N', 'WOR.N', 'FM.TO', 'CUPRUM.SN', 'ARCB.OQ', 'CMPC.SN', 'COPEC.SN', 'GGBR4.SA', 'VALE3.SA', 'WEGE3.SA', 'ENAEX.SN', 'GOAU4.SA', 'PETR4.SA', 'CS.TO', 'AUTLANB.MX', 'BIMBOA.MX', 'ORBIA.MX', 'CEMEXCPO.MX', 'ALFAA.MX', 'PEOLES.MX', 'FEMSAUBD.MX', 'WT.N', 'TKO.TO', 'FVI.TO', 'NATR.OQ', 'COLBUN.SN', 'ODFL.OQ', 'MMS.N', 'CASAGRC1.LM', 'AME.N', 'VLO.N', 'UGPA3.SA', 'BACHOCOB.MX', 'CHRW.OQ', 'PPL.TO', 'CWST.OQ', 'FE.N', 'AMG.N', 'INGR.N', 'URI.N', 'AQN.TO', 'AAIC.N', 'AEE.N', 'PWR.N', 'RBA.TO', 'FHI.N', 'EGIE3.SA', 'BTU.N', 'WCC.N', 'SRE.N', 'RSG.N', 'RAIL3.SA', 'EPD.N', 'PAA.OQ', 'ALA.TO', 'TRPL4.SA', 'CE.N', 'BLK.N', 'NEE.N', 'SAPR4.SA', 'PX.N', 'SPTN.OQ', 'BRAP4.SA', 'NS.N', 'RGP.OQ', 'CVERDEC1.LM', 'GPN.N', 'GDI.TO', 'GLNG.OQ', 'XPO.N', 'CHE_u.TO', 'WCN.TO', 'HEES.OQ', 'SAIA.OQ', 'CMP.N', 'KEY.TO', 'FA.OQ', 'WLK.N', 'KUT.V', 'BIP.N', 'KW.N', 'IVZ.N', 'VMC.N', 'VTNR.OQ', 'SUZB3.SA', 'USIM5.SA', 'SORIANAB.MX', 'HERDEZ.MX', 'ICHB.MX', 'LSTR.OQ', 'USNA.N', 'GCC.MX', 'PARR.N', 'SIMECB.MX', 'YPFD.BA', 'TTEK.OQ', 'PNW.N', 'ENELAM.SN', 'RDUS.OQ', 'CEPU.BA', 'HAIN.OQ', 'MTL.TO', 'VBBR3.SA', 'MLM.N', 'MED.N', 'CFV.CN', 'STN.TO', 'EXP.N', 'VET.TO', 'GRUMAB.MX', 'CIX.TO', 'GEO.N', 'AGUASA.SN', 'PAMP.BA', 'DAR.N', 'GMEXICOB.MX', 'RS.N', 'SCCO.N', 'MINSURI1.LM', 'LUN.TO', 'HBM.TO', 'CYRE3.SA', 'EAF.N', 'BESALCO.SN', 'HEO.TO', 'AEIS.OQ', 'PARAUCO.SN', 'ANTARCHILE.SN', 'ENDISPC1.LM', 'ALICORC1.LM', 'PBH.TO', 'CCB.CN', 'HUBG.OQ', 'POR.N', 'BDGI.TO', 'CENX.OQ', 'IMI.CN', 'NCH.CN', 'CASS.OQ', 'HAYN.OQ', 'SRCL.OQ', 'KKR.N', 'ARA.MX', 'UNFI.N', 'STLD.OQ', 'BDT.TO', 'OGE.N', 'SBSP3.SA', 'EEFT.OQ', 'NPI.TO', 'BX.N', 'AWK.N', 'ENGI4.SA', 'SOL.N', 'CVI.N', 'PRIM.N', 'HBOR3.SA', 'ENEV3.SA', 'TGH.N', 'FOR.N', 'TNK.N', 'IPI.N', 'FRES.L', 'MYRG.OQ', 'AD_u.TO', 'KRO.N', 'SFL.N', 'CENCOSUD.SN', 'BGS.N', 'HEP.N', 'CSMG3.SA', 'ENS.N', 'CNS.N', 'ORA.N', 'ULH.OQ', 'WEX.N', 'EXLS.OQ', 'MDIA3.SA', 'BEEF3.SA', 'HTGC.N', 'SPWR.OQ', 'MULT3.SA', 'CSAN3.SA', 'ACM.N', 'CF.N', 'DK.N', 'TGMA3.SA', 'THS.N', 'AMP.N', 'ET.N', 'DHT.N', 'CLMT.OQ', 'SK.SN', 'ENGIEC1.LM', 'AGRO3.SA', 'PASAB.MX', 'JBSS3.SA', 'EQTL3.SA', 'EVEN3.SA', 'CODI.N', 'TAEE11.SA', 'MRFG3.SA', 'WSP.TO', 'G.N', 'DXT.TO', 'CLNE.OQ', 'TCSA3.SA', 'WU.N', 'BDI.TO', 'SAR.N', 'CSIQ.OQ', 'SPRO.NFF', 'NWC.TO', 'SMTO3.SA', 'CQP.A', 'JHSF3.SA', 'TIPT.OQ', 'FLNG.OL', 'SLCE3.SA', 'EZTC3.SA', 'ISA.CN', 'VRTS.OQ', 'PLAG.A', 'CIEL3.SA', 'CPX.TO', 'AESB3.SA', 'ALUP11.SA', 'DIRR3.SA', 'PAGP.OQ', 'GNRC.N', 'CVE.TO', 'GGD.TO', 'MILS3.SA', 'SIMH3.SA', 'ALOS3.SA', 'FLT.N', 'CHDRAUIB.MX', 'AMRC.N', 'KNX.N', 'TRGP.N', 'HHH.N', '3665.TW', 'CAML3.SA', 'MOS.N', 'GEI.TO', 'ENPH.OQ', 'OAK_pa.N', 'MPC.N', 'SLCA.N', 'TCPC.OQ', 'SNDR.N', 'CG.OQ', 'PFGC.N', 'SMU.SN', 'PBF.N', 'PSX.N', 'POST.N', 'SQ.N', 'SUN.N', 'MPLX.N', 'VESTA.MX', 'INRETC1.LM', 'SAMG.OQ', 'WES.N', 'NVEE.OQ', 'EVTC.N', 'SFM.OQ', 'CWENa.N', 'ASC.N', 'MUSA.N', 'AGAS.OL', 'LPG.N', 'IBP.N', 'OGS.N', 'ENLC.N', 'ARES.N', 'WLKP.N', 'CVEO.N', 'NEP.N', 'AXTA.N', 'HESM.N', 'LOGG3.SA', 'SUM.N', 'TWM.TO', 'BLD.N', 'RUN.OQ', 'ENR.N', 'PYPL.OQ', 'KHC.OQ', 'MEGA3.SA', 'ACI.N', 'WSC.OQ', 'SITE.N', 'CSWI.OQ', 'H.TO', 'LACOMERUBC.MX', 'USFD.N', 'ATKR.N', 'ENELCHILE.SN', 'HRI.N', 'PLANI.MX', 'AA.N', 'INSW.N', 'LW.N', 'VRRM.OQ', 'IMXI.OQ', 'METC.OQ', 'KRP.N', 'HLNE.OQ', 'HCC.N', 'AM.N', 'CRFB3.SA', 'JWEL.TO', 'BBCP.OQ', 'SMPL.OQ', 'ERO.TO', 'TRAXIONA.MX', 'APG.N', 'NEO.TO', 'STLC.TO', 'BOKU.L', 'GMXT.MX', 'NTR.TO', 'VCTR.OQ', 'PAGS.N', 'MALLPLAZA.SN', 'FCFE18.MX', 'ROAD.OQ', 'RPAY.OQ', 'VRT.N', 'LSEA.OQ', 'IIIV.OQ', 'BV.N', 'TPVG.N', 'CENCOSHOPP.SN', 'UTZ.N', 'BCSF.N', 'NFE.OQ', 'ETRN.N', 'DOW.N', 'CTVA.N', 'ARKO.OQ', 'GO.OQ', 'OBDC.N', 'AMK.N', 'GFL.TO', 'AMBP3.SA', 'MP.N', 'CARR.N', 'FOUR.N', 'LAVV3.SA', 'VITL.OQ', 'RAIZ4.SA', 'WEWKQ.PK', 'CMIN3.SA', 'GMAT3.SA', 'HBRE3.SA', 'RRRP3.SA', 'AVO.OQ', 'NVEI.TO', 'ARRY.OQ', 'JSLG3.SA', 'OWL.N', 'CNXC.OQ', 'VITT3.SA', 'AMPS.N', 'MNTK.OQ']. Error: Error code 408 | HTTP TimeoutException: .\n",
      "batch failed\n",
      "Getting data for batch number: 2 of 7\n",
      "Processing batch\n"
     ]
    },
    {
     "name": "stderr",
     "output_type": "stream",
     "text": [
      "2023-11-22 20:24:39,098 P[30376] [MainThread 28748] Backend error. 400 Bad Request\n",
      "2023-11-22 20:24:39,113 P[30376] [MainThread 28748] HTTP request failed: EikonError-Backend error. 400 Bad Request\n"
     ]
    },
    {
     "name": "stdout",
     "output_type": "stream",
     "text": [
      "Failed to fetch data for batch: ['PAX.OQ', 'SHLS.OQ', 'BRCC.N', 'TTEN3.SA', 'GGPS3.SA', 'ASAI3.SA', 'TASK.OQ', 'DLO.OQ', 'ARML3.SA', 'DTM.N', 'BRDG.N', 'SOVO.OQ', 'SLVM.N', 'ARIS.N', 'HRT.N', 'SLND.A', 'TPG.OQ', 'AURE3.SA', 'RXO.N', 'CLCO.OL', 'BAM.N', 'NTGY.MC', 'CARR.PA', 'CNA.L', 'ERG.MI', 'TKAG.DE', 'ABF.L', 'AIRP.PA', 'CPI.L', 'REP.MC', 'ACX.MC', 'BEKB.BR', 'HEIG.DE', 'REDE.MC', 'FER.MC', 'BZU.MI', 'EVNV.VI', 'AGRV.VI', 'SDFGn.DE', 'COLR.BR', 'ANA.MC', 'FCC.MC', 'ACS.MC', 'SZGG.DE', 'ACE.MI', 'VOES.VI', 'EMG.L', 'SCYR.MC', 'SAVEN.PA', 'FOUG.PA', 'VOPA.AS', 'ACKB.BR', 'TEPRF.PA', 'EBRO.MC', 'BAMN.AS', 'ABGV.VI', 'HLAN.AS', 'LKOH.MM', 'SNGS.MM', 'OMVV.VI', 'WBSV.VI', 'TTEF.PA', 'SIEGn.DE', 'TSCO.L', 'AD.AS', 'AKZO.AS', 'KDSKF.PK', 'MT.AS', 'AAL.L', 'SBRY.L', 'RIO.L', 'ENI.MI', 'ALBON.PA', 'CAIV.VI', 'IMFI.VI', 'ENAG.MC', 'SIBN.MM', 'CHMF.MM', 'TATN.MM', 'EXMR.BR', 'SIAG.VI', 'HRA.MI', 'NG.L', 'NLMK.MM', 'TRN.MI', 'EUAV.BR', 'NVTK.MM', 'ELI.BR', 'MAGN.MM', 'LSRG.MM', 'ROSN.MM', 'ZUMV.VI', 'SRS.MI', 'ABDN.L', 'MSRS.MM', 'STRV.VI', 'PRY.MI', 'UBMV.VI', 'IMMO.BR', 'LOTB.BR', 'RECT.BR', 'WHATS.BR', 'BYWGnx.DE', 'GBFG.DE', 'BRNKn.DE', 'EUKG_p.F', 'FHWG.F', 'FPE3_p.DE', 'HNDG.F', 'HOTG.DE', 'KWSG.DE', 'SZUG.DE', 'TEGG.DE', '2HR.DE', 'ECR.MC', 'ENOR.MC', 'ENC.MC', 'TUBA.MC', 'PSG.MC', 'BOUY.PA', 'DANO.PA', 'CBLP.PA', 'CRIP.PA', 'VCTP.PA', 'RXL.PA', 'EDSP.PA', 'EEPC.PA', 'SGEF.PA', 'IMTP.PA', 'RUBF.PA', 'JCQ.PA', 'LEGD.PA', 'LINP.PA', 'LOEX.PA', 'MWDP.PA', 'SABL.PA', 'SCHN.PA', 'IMAF.PA', 'TIPK.PA', 'JCI.N', 'SDY.L', 'ALUG.L', 'AHT.L', 'GL9.I', 'BALF.L', 'BOOT.L', 'BNZL.L', 'CARRC.L', 'COSG.L', 'CWK.L', 'CRH.N', 'GFRD.L', 'REDD.L', 'GRI.L', 'GHE.L', 'HILS.L', 'IBST.L', 'JSG.L', 'KMR.L', 'KYGa.I', 'LISN.S', 'RNWH.L', 'MKS.L', 'MSLH.L', 'RAT.L', 'RTO.L', 'RCDO.L', 'SDR.L', 'SRP.L', 'SFR.L', 'RWI.L', 'MGNS.L', 'SMIN.L', 'PNN.L', 'TATE.L', 'TET.L', 'VLX.L', 'FERG.N', 'NESN.S', 'BELL.S', 'GAV.S', 'SGSN.S', 'HOLN.S', 'ISN.S', 'LEHN.S', 'METG.S', 'MIKN.S', 'STLN.S', 'PMN.S', 'VONN.S', 'WARN.S', 'ZEHN.S', 'ZWM.S', 'TRMDa.CO', 'SPGP.CO', 'NKT.CO', 'PAALb.CO', 'SCHO.CO', 'ARBN.AS', 'SLIGR.AS', 'TWKNc.AS', 'NHY.OL', 'ODF.OL', 'VEI.OL', 'CEMI.MI', 'WBD.MI', 'ITMI.MI', 'BOL.ST', 'SCAb.ST', 'HUFVa.ST', 'NCCb.ST', 'RATOb.ST', 'SKAb.ST', 'KESKOB.HE', 'METSB.HE', 'OUT1V.HE', 'BILN.L', 'ETN.N', 'TT.N', 'MSHGn.F', 'ERMT.PA', 'CLSH.L', 'AFRY.ST', 'ANTO.L', 'BOLJ.ST', 'CTY1S.HE', 'CEV.MC', 'HHDC.CO', 'ECORE.L', 'PEUG.PA', 'GPIF.PA', 'HYDRA.AS', 'PEABb.ST', 'MTHH.CO', 'ISUR.MC', 'GNC.L', 'KCOGn.DE', 'APETIT.HE', 'LAT1V.HE', 'LGT.MC', 'LIAB.ST', 'PNA1V.HE', 'PLAZb.ST', 'STWK.ST', 'RAIVV.HE', 'RROS.ST', 'SECUb.ST', 'BEIJb.ST', 'YSO.LS', 'EQNR.OL', 'EQV1V.HE', 'FRO.N', 'VOSG.DE', 'WALLb.ST', 'FABG.ST', 'SAEI.MI', 'ICP.L', 'ARN.MI', 'LIN.OQ', 'NIBEb.ST', 'EXEP.PA', 'PANDXb.ST', 'AXFO.ST', 'MOWI.OL', 'KGH.WA', 'AFGA.OL', 'UZU.DE', 'CCHE.PA', 'ZMP1L.VL', 'IBG.MC', 'CEMB.MI', 'NVGR.LS', 'PATC.PA', 'PZV1L.VL', 'WWL.WA', 'BARN.S', 'BOND.PA', 'STF.PA', 'ALCIS.PA', 'NAFG.DE', 'HEPr.AT', 'SAHN.S', 'ECVG.DE', 'SWECb.ST', 'ZIM.AX', 'GLTN.PA', 'CEVG.H', 'PNEGn.DE', 'ITERA.OL', 'BITI.PA', 'SAGAa.ST', 'PLAKR.AT', 'MSONb.ST', 'GREENY.BR', 'LIO.L', 'ELGr.AT', 'PBX.WA', 'BALDb.ST', 'ASY.PA', 'DOV1V.HE', 'VIE.PA', 'CAG0n.H', 'PKN.WA', 'VVVGn_p.DE', 'ALLN.S', 'PSPN.S', 'IKTr.AT', 'ORPF.PA', 'SPSN.S', 'RWS.L', 'DAIr.AT', 'ETTE.HE', 'EKTG.DE', 'LSG.OL', 'KRDr.AT', 'EVRr.AT', 'MPCKk.DE', 'DEQGn.DE', 'WDIG.H', 'CLII.MI', 'HRPKk.DE', 'CAPMAN.HE', 'MOBN.S', 'FBI.CY', 'SVIK.ST', 'NEXS.PA', 'CPHN.S', 'MORr.AT', 'EMMN.S', 'ROSNP.BX', 'ADDTb.ST', 'LAGRb.ST', 'TWSr.AT', 'JHX.AX', 'MSTT.MM', 'KEPr.AT', 'ITRK.L', 'AKRN.MM', 'REJLb.ST', 'ADXR.MC', 'PREN.PFT', 'IGHZ.ZA', 'GALP.LS', 'DVLP.WA', 'AMG.AS', 'GRNT.MKE', 'MPT.MKE', 'JHG.N', 'LACR.PA', 'CATb.ST', 'HWG.L', 'SOLARb.CO', 'HEIJ.AS', 'HRMr.AT', 'ELSRr.AT', 'MSZ.WA', 'JMT.LS', 'ARDS.AS', 'FPARa.ST', 'KLR.L', 'HEBAb.ST', 'ATRLJb.ST', 'III.L', 'DCC.L', 'DBG.PA', 'ASPO.HE', 'WYWYN.L', 'GRANG.ST', 'SGCG.DE', 'BDXP.WA', 'SEM.LS', 'MYTr.AT', 'MOTA.LS', 'NWF.L', 'MOLB.BU', 'LOUP.PA', 'KTY.WA', 'RLP.WA', 'ECH.WA', 'SAGO.MM', 'UPM.HE', 'NTGNT.CO', 'FLUX.BR', 'BDTG.DE', 'MERG.L', 'IPX.L', 'KIE.L', 'IRC.MI', 'COGP.WA', 'BBHKk.H', 'ICP1V.HE', 'CAST.ST', 'ATTP.WA', 'CICG.LJ', 'ATGR.ZA', 'FEN.L', 'BRKN.S', 'BVI.PA', 'OAP3.L', 'SYSR.ST', 'ENDUR.OL', 'MTCM.MI', 'KMCP.OL', 'EAST9.ST', 'RTA4.MC', 'FREY.PA', 'MRK1T.TL', 'EDPR.LS', 'BREE.L', 'RAMA.LS', 'MLCOR.EUA', 'KLUr.AT', 'YAR.OL', 'GTCP.WA', 'MBH.L', 'AZMT.MI', 'PFD.L', 'GOODG.L', 'PAYP.L', 'BEG.L', 'NEXI.PA', 'RSTP.L', 'SEAF.ST', 'ASCI.MI', 'AKE.PA', 'CIEP.WA', 'M4NG.DE', 'HRGV.L', 'TIP.MI', 'BEGR.ST', 'SALM.OL', 'RENE.LS', 'TGN.BX', 'EUR.WA', 'F3CG.DE', 'DPL.WA', 'DDJH.ZA', 'BRK.L', 'ALSS.LS', 'NESTE.HE', 'ATYM.L', 'PEPP.WA', 'MARR.MI', 'TSTL.L', 'WIHL.ST', 'AAK.ST', 'TVE1T.TL', 'ALFRE.PA', 'GPEP.PA', 'SRC.L', 'COTE.BX', 'LQAG.DE', 'TX.N', 'DRX.L', 'IMPN.S', 'KZRUI.RTS', 'B8AG.DE', 'VESTUM.ST', 'BPM.L', 'VALS.MI', 'PGHN.S', 'PATGn.DE', 'REN.MC', 'CATE.ST', 'MGNT.MM', 'DIOS.ST', 'B7EG.DE', 'TEL.N', 'ALUPG.PA', 'GAMQ.MC', 'AUSS.OL', 'O4BG.DE', 'OGKB.MM', 'H5EG.DE', 'ASHM.L', 'AER.N', 'MSTSI.RTS', 'WXFB.VI', 'GEMD.L', 'VZN.S', 'SERIT.MI', 'ANNEb.ST', 'B7C.MI', 'SRET.L', 'GSFG.OL', 'NMAN.ST', 'HFG.L', 'OGN.I', 'FXPO.L', 'SLRS.MC', 'TRNF_p.MM', 'CEZP.PR', 'BMCP.WA', 'ALRS.MM', 'LOOMIS.ST', 'CLOEb.ST', 'ESUN.S', 'INF.L', 'ATC.WA', 'PGE.WA']. Error: Error code 400 | Backend error. 400 Bad Request\n",
      "batch failed\n",
      "Getting data for batch number: 3 of 7\n",
      "Processing batch\n"
     ]
    },
    {
     "name": "stderr",
     "output_type": "stream",
     "text": [
      "2023-11-22 20:24:57,542 P[30376] [MainThread 28748] Backend error. 400 Bad Request\n",
      "2023-11-22 20:24:57,543 P[30376] [MainThread 28748] HTTP request failed: EikonError-Backend error. 400 Bad Request\n"
     ]
    },
    {
     "name": "stdout",
     "output_type": "stream",
     "text": [
      "Failed to fetch data for batch: ['FEES.MM', 'BURF.L', 'STNG.N', 'BAKKA.OL', 'ORON.S', 'JSW.WA', 'CHRH.CO', 'DR0G.DE', 'LYB.N', 'MBR.WA', 'MRKV.MM', 'JUP.L', 'MLGP.WA', 'IVS.MI', 'GLEN.L', 'AGRO.N', 'APAM.AS', 'STEFb.ST', 'ISS.CO', 'BOWP.WA', 'CAML.L', 'AMAV.VI', 'FREN.S', 'APPS.MC', 'HTRO.ST', 'SBOS.OL', 'ALNG.OL', 'EVRE.L', 'ORSTED.CO', 'BKWB.S', 'SPIE.PA', 'GLOG_pa.N', 'THAJ.J', 'DKSH.S', 'MAST.BU', 'GYC.DE', 'DUKE.L', 'ZUGN.S', 'PKPP.WA', 'MSPJ.J', 'ABOG.DE', 'LEGn.DE', 'OCI.AS', 'TAALA.HE', 'NVGS.N', 'CSTM.N', 'TARP.WA', 'CAV1V.HE', 'VNAn.DE', 'GTT.PA', 'FLOT.MM', 'FOXT.L', 'ROSNN.BX', 'AGAT.MI', 'PENP.WA', 'TPFG.L', 'VOW.OL', 'GLOP_pa.N', 'NOMD.N', 'ANIM.MI', 'HIAG.S', 'FAN.L', 'SCST.ST', 'TOR.WA', 'EQLS.L', 'ELIS.PA', 'ABSO.ST', 'ABL.OL', 'RKET.H', 'ENTRA.OL', 'MULTI.OL', 'HUMBLE.ST', 'SBBb.ST', 'LIFCOb.ST', 'KOJAMO.HE', 'BRAV.ST', 'NP3.ST', 'SDIPpref.ST', 'FC9.DE', 'PLANZ.S', 'TINCC.BR', 'COOR.ST', 'GREG.MC', 'VOLO.ST', 'LKD.WA', 'TNOM.HE', 'AT1.DE', 'ORSO.MI', 'UNTP.WA', 'CONSTI.HE', 'GPGR.ST', 'POLNP.L', 'SIFG.AS', 'YU.L', 'GARO.ST', 'WJG.L', 'FORT.L', 'DOMI.MC', 'FFARM.AS', 'DEF.DE', 'PMIP.L', 'BRINb.ST', 'VANL.L', 'IG.MI', 'BYGGP.ST', 'VARN.S', 'DNP.WA', 'CASHP.MC', 'TKOO.PA', 'ALDA.PA', 'XPS.L', 'TPSG.MI', 'HOME.MC', 'IBU.DE', 'FONDIA.HE', 'INSTAL.ST', 'INDB.MI', 'MTRS.ST', 'TRIANb.ST', 'EGR1T.TL', 'GRPG.I', 'NRPJ.J', 'LANDI.S', 'KETL.L', 'AEDAS.MC', 'NDT.MI', 'NEXA.N', 'AFM.L', 'BALCO.ST', 'ENPG.MM', 'SSG.OL', 'DBA.MI', 'TITAN.HE', 'BAKK.L', 'GTRK.MM', 'HFGG.DE', 'KEYS.L', 'BFSA.DE', 'QLT.L', 'TSEC.ST', 'AWRD.ST', 'INS2.DE', 'NEOEN.PA', 'ELMRA.OL', 'BSGR.AS', 'GREENL.ST', 'JTC.L', 'HARVIA.HE', 'DWSG.DE', 'LUVE.MI', 'FNTL.L', 'ESENSE.HE', 'CIBUS.ST', 'RBGP.L', 'NVT.N', 'KGHK.L', 'ANXA.L', 'MMM.AX', 'ALTUV.PA', 'PENGb.ST', 'CPXG.DE', 'CLVT.N', 'ALQ.MC', 'EDAC.MI', 'NYFO.ST', 'VIAFIN.HE', 'NEXII.MI', 'JOMA.ST', 'TITC.BR', 'BRCK.L', 'EQTAB.ST', 'AALLON.HE', 'SCFG.MI', 'NSKOG.OL', 'FODELIA.HE', 'NWLF.MI', 'ITH.L', 'KFASTb.ST', 'OET.OL', 'QAIR.ST', 'EPICN.S', 'FRP.L', 'N91.L', 'JDEP.AS', 'CLOUD.OL', 'AKBM.OL', 'BKHTn.DE', 'ELIX.L', 'ISLAX.OL', 'INAI.S', 'NPAPER.ST', 'SOLPW.MC', 'SFAST.ST', 'CADLR.OL', 'ESGRb.ST', 'FG.ST', 'KREATE.HE', 'RANA.OL', 'VTWRn.H', 'CTPNV.AS', 'SITOWS.HE', 'FIXPq.L', 'VH2.DE', 'ORTHEX.HE', 'ECNER.MC', 'SOLWERS.HE', 'ANE.MC', 'OX2SE.ST', 'PURMO.HE', 'MASM.OL', 'ROONE.BX', 'WISEa.L', 'BPTB.L', 'ARPL.ST', 'DOLE.N', 'GVOLT.LS', 'WPS.L', 'MAJ.AS', 'AZE.BR', 'ANTIN.PA', 'STORb.ST', 'ARIS.MI', 'NORBb.ST', 'KEMPOWR.HE', 'ATAS.L', 'NETEL.ST', 'SRAD.L', 'CTEK.ST', 'LAMOR.HE', 'AGROUP.ST', 'ALEX.HE', 'EMILpref.ST', 'KLARAb.ST', 'NORVA.ST', 'SLPb.ST', 'EVLI.HE', 'ALOKW.PA', 'ENRY.MI', 'ALLEI.ST', 'TCHCS.PA', 'STSU.OL', '1038.HK', '000002.SZ', 'JARD.SI', 'DFIR.SI', '9502.T', '5401.T', '9506.T', '9501.T', '7011.T', '9503.T', '8802.T', '6503.T', '8801.T', '0012.HK', '0003.HK', '0017.HK', '0006.HK', '9508.T', '0083.HK', '0392.HK', '0688.HK', '0004.HK', '0101.HK', '1109.HK', '0683.HK', '0322.HK', '0002.HK', '0016.HK', '6501.T', '6971.T', '8058.T', '5411.T', '6502.T', '0297.HK', '600019.SS', '600900.SS', '0836.HK', '600096.SS', '000898.SZ', '000792.SZ', '600028.SS', '3382.T', '600048.SS', '601006.SS', '0552.HK', 'YAZG.SI', '601600.SS', '601857.SS', '601390.SS', '601898.SS', '601186.SS', '0142.HK', '0173.HK', '0542.HK', '1304.TW', '2802.T', '6754.T', '4401.T', '4216.T', '9740.T', '8217.T', '6366.T', '9504.T', '4617.T', '4202.T', '5471.T', '6367.T', '1878.T', '5714.T', '4061.T', '2206.T', '5803.T', '2607.T', '6755.T', '9075.T', '4998.T', '9757.T', '5801.T', '8078.T', '8276.T', '8803.T', '4112.T', '9509.T', '4992.T', '3865.T', '2810.T', '4088.T', '6652.T', '4028.T', '8001.T', '8088.T', '8595.T', '1963.T', '7942.T', '3863.T', '8267.T', '2811.T', '1812.T', '2220.T', '1942.T', '4118.T', '8020.T', '4613.T', '7012.T', '8818.T', '6861.T', '2801.T', '1944.T', '5406.T', '9161.T', '1861.T', '4996.T', '3405.T', '4023.T', '6370.T', '5352.T', '1301.T', '1951.T', '1959.T', '8194.T', '6592.T', '8002.T', '8046.T', '5463.T', '4182.T', '7003.T', '5706.T', '4183.T', '2201.T', '2264.T', '2217.T', '8012.T', '5393.T', '6996.T', '8091.T', '2871.T', '8174.T', '5302.T', '4092.T', '6997.T', '6594.T', '9072.T', '2282.T', '4403.T', '4612.T', '4091.T', '4114.T', '1332.T', '5480.T', '4205.T', '1820.T', '2002.T', '2602.T', '3105.T', '2897.T', '1929.T', '1802.T', '3861.T', '6645.T', '5233.T', '1980.T', '9532.T', '4187.T', '4046.T', '6644.T', '5541.T', '1893.T', '2281.T', '2809.T', '1926.T', '4220.T', '4078.T', '1377.T', '4471.T', '6516.T', '5481.T', '2805.T', '9735.T', '4228.T', '4099.T', '9507.T', '1803.T', '7970.T', '3003.T', '8079.T', '4004.T', '5805.T', '2004.T', '4203.T', '5232.T', '8053.T', '5713.T', '8830.T', '1979.T', '3880.T', '1801.T', '2902.NG', '4914.T', '1969.T', '6768.T', '9743.T', '6762.T', '9746.T', '4045.T', '8841.T', '1860.T', '9533.T', '1934.T', '5727.T', '4043.T', '5423.T', '8804.T', '3878.T', '3402.T', '1835.T', '3101.T', '1890.T', '6330.T', '8015.T', '4208.T', '2267.T', '6845.T', '5444.T', '2212.T', '6506.T', '5911.T', '5357.T', '0544.HK', '0135.HK', '0270.HK', '0154.HK', '0014.HK', '0179.HK', '0366.HK', '0257.HK', '0295.HK', '0369.HK', '0081.HK', '0242.HK', '0535.HK', '600874.SS', '8279.T', '2524.TW', '600868.SS', '600861.SS', '600863.SS', '1102.TW', '1308.TW', '0726.HK', '005180.KS', '1305.TW', '001040.KS', '0480.HK', '004150.KS', '004910.KS', '2010.TW', '000210.KS', '000320.KS', '2308.TW']. Error: Error code 400 | Backend error. 400 Bad Request\n",
      "batch failed\n",
      "Getting data for batch number: 4 of 7\n",
      "Processing batch\n"
     ]
    },
    {
     "name": "stderr",
     "output_type": "stream",
     "text": [
      "2023-11-22 20:25:16,041 P[30376] [MainThread 28748] Backend error. 400 Bad Request\n",
      "2023-11-22 20:25:16,041 P[30376] [MainThread 28748] HTTP request failed: EikonError-Backend error. 400 Bad Request\n"
     ]
    },
    {
     "name": "stdout",
     "output_type": "stream",
     "text": [
      "Failed to fetch data for batch: ['009580.KS', '001230.KS', '002710.KS', '010780.KS', '6928.T', '1402.TW', '2908.T', '1326.TW', '1301.TW', '0639.HK', '1707.TW', '006260.KS', '004960.KS', '009830.KS', '002220.KS', '010620.KS', '000720.KS', '011760.KS', '015860.KS', '004020.KS', '2504.TW', '9678.T', '003070.KS', '010060.KS', '001570.KS', '000860.KS', '010420.KS', '1443.TW', '003550.KS', '006360.KS', '001680.KS', '8848.T', '004370.KS', '1303.TW', '9716.T', '9511.T', '6914.T', '000150.KS', '005490.KS', '1216.TW', '003030.KS', '2910.T', '005070.KS', '006400.KS', '005610.KS', '003230.KS', '004690.KS', '004980.KS', '003410.KS', '010950.KS', '2292.T', '1101.TW', '0661.HK', '004800.KS', '9715.T', '006980.KS', '2815.T', '0182.HK', '0730.HK', '0517.HK', '2014.TW', '0497.HK', '6908.T', '2015.TW', '601975.SS', '600362.SS', '600075.SS', '600082.SS', '000751.SZ', '600101.SS', '600103.SS', '000762.SZ', '000785.SZ', '011790.KS', '600098.SS', '029460.KS', '017890.KQ', '009540.KS', '9037.T', '018670.KS', '600128.SS', '000069.SZ', '000789.SZ', '1220.HK', '600111.SS', '600110.SS', '600585.SS', '1762.T', '2616.TW', '1125.HK', '033500.KQ', '000803.SZ', '000876.SZ', '1722.TW', '600188.SS', '000807.SZ', '9926.TW', '006650.KS', '002990.KS', '1617.TW', '1725.TW', '000120.KS', '600125.SS', '600150.SS', '0754.HK', '000811.SZ', '000878.SZ', '000065.SZ', '600153.SS', '1618.TW', '600170.SS', '600160.SS', '2546.TW', '000820.SZ', '8871.T', '000830.SZ', '600186.SS', '000301.SZ', '2375.TW', '000881.SZ', '000831.SZ', '2421.TW', '0166.HK', '2413.TW', '6328.T', '9958.TW', '1723.TW', '000895.SZ', '002380.KS', '2030.TW', '600123.SS', '000893.SZ', '000877.SZ', '5371.TWO', '600167.SS', '600266.SS', '000928.SZ', '600007.SS', '600206.SS', '000885.SZ', '000902.SZ', '000897.SZ', '1224.HK', '2542.TW', '6505.TW', '600193.SS', '000911.SZ', '2433.TW', '600141.SS', '600027.SS', '000906.SZ', '000923.SZ', '000090.SZ', '000932.SZ', '006840.KS', '000933.SZ', '000937.SZ', '0855.HK', '2034.TW', '000953.SZ', '037400.KQ', '600219.SS', '8009.HK', '600230.SS', '000970.SZ', '600008.SS', '0436.HK', '600256.SS', '600259.SS', '000975.SZ', '4763.T', '600300.SS', '000990.SZ', '2548.TW', '2651.T', '600261.SS', '8095.HK', '000983.SZ', '2659.T', '600298.SS', '600293.SS', '5457.TWO', '000155.SZ', '600366.SS', '600281.SS', '049770.KS', '4825.T', '000998.SZ', '0698.HK', '600328.SS', '600323.SS', '600339.SS', '600399.SS', '600388.SS', '600309.SS', '600378.SS', '600389.SS', '042660.KS', '600305.SS', '600010.SS', '600376.SS', '047040.KS', '047050.KS', '600383.SS', '2688.HK', '1083.HK', '051910.KS', '4368.T', '600528.SS', '600395.SS', '600419.SS', '600530.SS', '4290.T', '031440.KS', '600346.SS', '021320.KQ', '600596.SS', '0818.HK', '003670.KS', '6121.TWO', '2935.T', '600361.SS', '2119.HK', '8117.HK', '600567.SS', '8935.TWO', '600583.SS', '5726.T', '5903.TWO', '600509.SS', '2613.T', '5534.TW', '600598.SS', '600456.SS', '600486.SS', '054210.KQ', '600496.SS', '600580.SS', '060150.KQ', '600426.SS', '3090.TW', '0954.HK', '8905.T', '6223.TWO', '058610.KQ', '2742.T', '600515.SS', '600586.SS', '2325.T', '600597.SS', '600516.SS', '2331.T', '000875.SZ', '069260.KS', '2337.T', 'SUWN.PK', '600549.SS', '600353.SS', '600563.SS', '2176.HK', '6279.TWO', '2302.HK', '066970.KQ', '5017.T', '600537.SS', '2326.HK', '2768.T', '600039.SS', '600502.SS', '600481.SS', '8103.TW', '600433.SS', '2317.HK', '600490.SS', '600475.SS', '600546.SS', '600348.SS', '1719.T', '1720.T', '1721.T', '600507.SS', '2375.T', '2819.T', '600477.SS', '2384.T', '2791.T', '002139.SZ', '1813.HK', '0658.HK', '096770.KS', 'UAFC.SI', '7821.T', '002145.SZ', '0826.HK', '002149.SZ', '0817.HK', '097230.KS', '002170.SZ', '0123.HK', '600606.SS', '600651.SS', '0617.HK', '000005.SZ', '000012.SZ', '0371.HK', '600021.SS', '0632.HK', '9933.TW', '2915.T', '9948.T', '001430.KS', '0456.HK', '600688.SS', '011170.KS', '010130.KS', '005090.KS', '011810.KS', '014910.KS', '0563.HK', '2516.TW', '600673.SS', '600676.SS', '9956.T', '2511.TW', '0385.HK', '0059.HK', '600615.SS', '600644.SS', '600642.SS', '600663.SS', '600678.SS', '600608.SS', '600603.SS', '600641.SS', '000027.SZ', '600808.SS', '600692.SS', '600691.SS', '000541.SZ', '000553.SZ', '000040.SZ', '9908.TW', '2611.TW', '1712.TW', '2520.TW', '1456.TW', '0985.HK', '001340.KS', '010140.KS', '600827.SS', '6420.T', '1309.TW', '600848.SS', '9946.T', '1047.HK', '000567.SZ', '000036.SZ', '9974.T', '1118.HK', '600876.SS', '000573.SZ', '007310.KS', '014790.KS', '000546.SZ', '2222.T', '1193.HK', '600026.SS', '008420.KS', '6905.T', '600801.SS', '600872.SS', '600873.SS', '9058.T', '2527.TW', '000049.SZ', '600803.SS', '600820.SS', '600821.SS', '000543.SZ', '1516.TW', '1229.HK', '2918.T', '9793.T', '017960.KS', '9787.T', '9369.T', '017810.KS', '0384.HK', '7485.NG', '3052.TW', '600882.SS', '600884.SS', '2025.TW', '2534.TW', '000591.SZ', '600887.SS', '2024.TW', '600895.SS', '600705.SS', '1721.TW', '000598.SZ', '0363.HK', '600711.SS', '000600.SZ', '600714.SS', '000401.SZ', '600722.SS', '000402.SZ', '000408.SZ', '600719.SS', '600737.SS', '011930.KS', '7508.T', '600732.SS', '000603.SZ', '4968.T', '5019.T', '5440.T', '000601.SZ', '600744.SS', '600755.SS', '9039.T', '2027.TW', '000032.SZ', '600765.SS', '000633.SZ', '000630.SZ', '000632.SZ', '000656.SZ', '000636.SZ', '000657.SZ', '2359.TW', '1166.HK', '000672.SZ', '2360.TW', '028050.KS', '5009.TWO', '0675.HK', '600785.SS', '000681.SZ', '000060.SZ', '000690.SZ', '000059.SZ', '000683.SZ', '600793.SS', '000692.SZ', '000691.SZ', '0604.HK', '3355.T', '000708.SZ', '000703.SZ', '2031.TW', '600796.SS', '600051.SS', '600052.SS', '000709.SZ', '000736.SZ', '600064.SS', '000723.SZ', '1616.TW', '000759.SZ', '000722.SZ', '000488.SZ', '600063.SS', '600072.SS', '600083.SS', '000778.SZ', '000498.SZ', '034730.KS', '053690.KS', 'HOLI.OQ', '3800.HK', '097950.KS', '3377.HK', '3833.HK', '002182.SZ', '002183.SZ', '002192.SZ', '3254.T', '002201.SZ', '1414.T', '002202.SZ', '0505.HK', '002203.SZ', '002206.SZ', '002216.SZ', '002221.SZ', '0151.HK', '0098.HK', '601958.SS', '3617.TW', '002233.SZ', '0743.HK', '002244.SZ', '002245.SZ', '002250.SZ', '002251.SZ', '002258.SZ', '002266.SZ', '002268.SZ']. Error: Error code 400 | Backend error. 400 Bad Request\n",
      "batch failed\n",
      "Getting data for batch number: 5 of 7\n",
      "Processing batch\n"
     ]
    }
   ],
   "source": [
    "for i in range(7,20): \n",
    "    success, fail = fetch_data_in_batches(list(non_ren[\"Instrument\"]),500,rf\"non_ren_years_{-i}.csv\")"
   ]
  },
  {
   "cell_type": "code",
   "execution_count": null,
   "metadata": {},
   "outputs": [],
   "source": []
  }
 ],
 "metadata": {
  "kernelspec": {
   "display_name": "Python 3",
   "language": "python",
   "name": "python3"
  },
  "language_info": {
   "codemirror_mode": {
    "name": "ipython",
    "version": 3
   },
   "file_extension": ".py",
   "mimetype": "text/x-python",
   "name": "python",
   "nbconvert_exporter": "python",
   "pygments_lexer": "ipython3",
   "version": "3.11.4"
  }
 },
 "nbformat": 4,
 "nbformat_minor": 2
}
